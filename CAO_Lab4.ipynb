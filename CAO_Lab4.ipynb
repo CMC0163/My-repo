{
 "cells": [
  {
   "cell_type": "code",
   "execution_count": 1,
   "id": "3dc62093",
   "metadata": {},
   "outputs": [],
   "source": [
    "import yfinance as yf\n",
    "from datetime import date\n",
    "import json as json\n",
    "from pandas_datareader import data\n",
    "import matplotlib.pyplot as plt\n",
    "import pandas as pd"
   ]
  },
  {
   "cell_type": "code",
   "execution_count": 15,
   "id": "4ecf7756",
   "metadata": {},
   "outputs": [
    {
     "name": "stdout",
     "output_type": "stream",
     "text": [
      "Stock's ticker: AAPL\n"
     ]
    }
   ],
   "source": [
    "# Pick a stock \n",
    "ticker_name = input(\"Stock's ticker: \")\n",
    "ticker = yf.Ticker(ticker_name)"
   ]
  },
  {
   "cell_type": "code",
   "execution_count": 16,
   "id": "4cc76270",
   "metadata": {},
   "outputs": [],
   "source": [
    "name = ticker.info['longName']"
   ]
  },
  {
   "cell_type": "code",
   "execution_count": 17,
   "id": "31482862",
   "metadata": {},
   "outputs": [],
   "source": [
    "current_price = ticker.info[\"regularMarketPreviousClose\"]"
   ]
  },
  {
   "cell_type": "code",
   "execution_count": 18,
   "id": "dfbc2d3f",
   "metadata": {},
   "outputs": [],
   "source": [
    "target_mean_price = ticker.info[\"targetMeanPrice\"]"
   ]
  },
  {
   "cell_type": "code",
   "execution_count": 19,
   "id": "1b4d7f06",
   "metadata": {},
   "outputs": [],
   "source": [
    "cash = ticker.info[\"totalCash\"]"
   ]
  },
  {
   "cell_type": "code",
   "execution_count": 20,
   "id": "27757f8f",
   "metadata": {},
   "outputs": [],
   "source": [
    "margin = ticker.info[\"profitMargins\"]"
   ]
  },
  {
   "cell_type": "code",
   "execution_count": 21,
   "id": "0005766d",
   "metadata": {},
   "outputs": [],
   "source": [
    "today = date.today()"
   ]
  },
  {
   "cell_type": "code",
   "execution_count": 22,
   "id": "d54638c3",
   "metadata": {},
   "outputs": [
    {
     "name": "stdout",
     "output_type": "stream",
     "text": [
      "AAPL\n",
      "Apple Inc.\n",
      "142.99\n",
      "183.16\n",
      "48230998016\n",
      "0.25709\n",
      "2022-10-15\n"
     ]
    }
   ],
   "source": [
    "print(ticker_name)\n",
    "print(name)\n",
    "print(current_price)\n",
    "print(target_mean_price)\n",
    "print(cash)\n",
    "print(margin)\n",
    "print(today)"
   ]
  },
  {
   "cell_type": "code",
   "execution_count": 23,
   "id": "d30f0d65",
   "metadata": {},
   "outputs": [],
   "source": [
    "dictionary = {\n",
    "    \"Date\": today,\n",
    "    \"Ticker\": ticker_name,\n",
    "    \"Company Name\": name,\n",
    "    \"Current Price\": current_price,\n",
    "    \"Target Mean Price\": target_mean_price,\n",
    "    \"Cash On Hand\": cash,\n",
    "    \"Profit Margins\": margin\n",
    "}\n",
    "\n",
    "with open(\"stock.json\", \"w\") as outfile:\n",
    "    json.dump(dictionary, outfile, indent=7, sort_keys=False, default=str)"
   ]
  },
  {
   "cell_type": "code",
   "execution_count": 24,
   "id": "361f588b",
   "metadata": {},
   "outputs": [
    {
     "name": "stdout",
     "output_type": "stream",
     "text": [
      "{'Date': '2022-10-15', 'Ticker': 'AAPL', 'Company Name': 'Apple Inc.', 'Current Price': 142.99, 'Target Mean Price': 183.16, 'Cash On Hand': 48230998016, 'Profit Margins': 0.25709}\n",
      "<class 'dict'>\n"
     ]
    }
   ],
   "source": [
    "with open('stock.json', 'r') as openfile:\n",
    " \n",
    "    # Reading from json file\n",
    "    json_object = json.load(openfile)\n",
    " \n",
    "print(json_object)\n",
    "print(type(json_object))"
   ]
  },
  {
   "cell_type": "code",
   "execution_count": 25,
   "id": "0ae14a07",
   "metadata": {},
   "outputs": [],
   "source": [
    "df = ticker.history()\n",
    "df2 = df[\"High\"]\n",
    "df3 = df2.head(5)"
   ]
  },
  {
   "cell_type": "code",
   "execution_count": 26,
   "id": "8368000b",
   "metadata": {},
   "outputs": [
    {
     "data": {
      "image/png": "[encoded data removed]",
      "text/plain": [
       "<Figure size 432x288 with 1 Axes>"
      ]
     },
     "metadata": {
      "needs_background": "light"
     },
     "output_type": "display_data"
    }
   ],
   "source": [
    "plt.plot(df3)\n",
    "plt.show()"
   ]
  },
  {
   "cell_type": "code",
   "execution_count": null,
   "id": "4bbda5fc",
   "metadata": {},
   "outputs": [],
   "source": []
  }
 ],
 "metadata": {
  "kernelspec": {
   "display_name": "Python 3",
   "language": "python",
   "name": "python3"
  },
  "language_info": {
   "codemirror_mode": {
    "name": "ipython",
    "version": 3
   },
   "file_extension": ".py",
   "mimetype": "text/x-python",
   "name": "python",
   "nbconvert_exporter": "python",
   "pygments_lexer": "ipython3",
   "version": "3.8.8"
  }
 },
 "nbformat": 4,
 "nbformat_minor": 5
}
