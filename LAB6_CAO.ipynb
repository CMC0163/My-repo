{
 "cells": [
  {
   "cell_type": "code",
   "execution_count": 1,
   "id": "cf86dff1",
   "metadata": {},
   "outputs": [],
   "source": [
    "# Mianchen Cao \n",
    "# mc7sq\n",
    "# Lab 6"
   ]
  },
  {
   "cell_type": "code",
   "execution_count": null,
   "id": "dc126279",
   "metadata": {},
   "outputs": [],
   "source": [
    "#!/usr/bin/python\n",
    "# Copyright 2010 Google Inc.\n",
    "# Licensed under the Apache License, Version 2.0\n",
    "# http://www.apache.org/licenses/LICENSE-2.0\n",
    "\n",
    "# Google's Python Class\n",
    "# http://code.google.com/edu/languages/google-python-class/"
   ]
  },
  {
   "cell_type": "code",
   "execution_count": 32,
   "id": "65b5ee42",
   "metadata": {},
   "outputs": [],
   "source": [
    "import sys\n",
    "import re\n",
    "import glob"
   ]
  },
  {
   "cell_type": "code",
   "execution_count": 33,
   "id": "4b2c1487",
   "metadata": {},
   "outputs": [
    {
     "data": {
      "text/plain": [
       "'Baby Names exercise\\n\\nDefine the extract_names() function below and change main()\\nto call it.\\n\\nFor writing regex, it\\'s nice to include a copy of the target\\ntext for inspiration.\\n\\nHere\\'s what the html looks like in the baby.html files:\\n...\\n<h3 align=\"center\">Popularity in 1990</h3>\\n....\\n<tr align=\"right\"><td>1</td><td>Michael</td><td>Jessica</td>\\n<tr align=\"right\"><td>2</td><td>Christopher</td><td>Ashley</td>\\n<tr align=\"right\"><td>3</td><td>Matthew</td><td>Brittany</td>\\n...\\n\\nSuggested milestones for incremental development:\\n -Extract the year and print it\\n -Extract the names and rank numbers and just print them\\n -Get the names data into a dict and print it\\n -Build the [year, \\'name rank\\', ... ] list and print it\\n -Fix main() to use the extract_names list\\n'"
      ]
     },
     "execution_count": 33,
     "metadata": {},
     "output_type": "execute_result"
    }
   ],
   "source": [
    "\"\"\"Baby Names exercise\n",
    "\n",
    "Define the extract_names() function below and change main()\n",
    "to call it.\n",
    "\n",
    "For writing regex, it's nice to include a copy of the target\n",
    "text for inspiration.\n",
    "\n",
    "Here's what the html looks like in the baby.html files:\n",
    "...\n",
    "<h3 align=\"center\">Popularity in 1990</h3>\n",
    "....\n",
    "<tr align=\"right\"><td>1</td><td>Michael</td><td>Jessica</td>\n",
    "<tr align=\"right\"><td>2</td><td>Christopher</td><td>Ashley</td>\n",
    "<tr align=\"right\"><td>3</td><td>Matthew</td><td>Brittany</td>\n",
    "...\n",
    "\n",
    "Suggested milestones for incremental development:\n",
    " -Extract the year and print it\n",
    " -Extract the names and rank numbers and just print them\n",
    " -Get the names data into a dict and print it\n",
    " -Build the [year, 'name rank', ... ] list and print it\n",
    " -Fix main() to use the extract_names list\n",
    "\"\"\""
   ]
  },
  {
   "cell_type": "code",
   "execution_count": 34,
   "id": "24aa3bf4",
   "metadata": {},
   "outputs": [],
   "source": [
    "def extract_names(filename):\n",
    "    '''\n",
    "    Given a file name for baby.html, returns a list starting with the year string\n",
    "    followed by the name-rank strings in alphabetical order.\n",
    "    ['2006', 'Aaliyah 91', Aaron 57', 'Abagail 895', ' ...]\n",
    "    '''\n",
    "    frequency = []\n",
    "    names = {}\n",
    "\n",
    "    for line in open('/Users/CMC/Desktop/Fall 2022/DS 2002/HW/google-python-exercises/babynames/'+filename):\n",
    "        text = re.findall(\"<td>(\\d*)</td><td>(\\S*?)</td><td>(\\S*?)</td>\", line)\n",
    "        year = re.findall('Popularity in (\\d*)', line)\n",
    "        if text:\n",
    "            rank = text[0][0]\n",
    "            male = text[0][1]\n",
    "            female = text[0][2]\n",
    "            names[male] = rank\n",
    "            names[female] = rank\n",
    "        if year:\n",
    "            frequency.append(year[0])\n",
    "            \n",
    "    for a,b in names.items():\n",
    "        frequency.append(a + \" \" + b)\n",
    "\n",
    "    return sorted(frequency)"
   ]
  },
  {
   "cell_type": "code",
   "execution_count": 43,
   "id": "a60556cf",
   "metadata": {},
   "outputs": [],
   "source": [
    "def main():\n",
    "    # This command-line parsing code is provided.\n",
    "    # Make a list of command line arguments, omitting the [0] element\n",
    "    # which is the script itself.\n",
    "    args = sys.argv[1:]\n",
    "    \n",
    "    if not args:\n",
    "        print('usage: [--summaryfile] file [file ...]')\n",
    "        sys.exit(1)\n",
    "        \n",
    "    # Notice the summary flag and remove it from args if it is present.\n",
    "    summary = False\n",
    "    if args[0] == '--summaryfile':\n",
    "        summary = True\n",
    "        del args[0]\n",
    "        \n",
    "    # +++your code here+++\n",
    "    # For each filename, get the names, then either print the text output\n",
    "    # or write it to a summary file\n",
    "    \n",
    "    for filename in args:\n",
    "        names = extract_names(filename)\n",
    "\n",
    "    # Make text out of the whole list\n",
    "    text = '\\n'.join(names)\n",
    "\n",
    "    if summary:\n",
    "        outf = open('/Users/CMC/Desktop/Fall 2022/DS 2002/HW/google-python-exercises/babynames/'+filename + '.summary', 'w')\n",
    "        outf.write(text + '\\n')\n",
    "        outf.close()\n",
    "    else:\n",
    "        print(text)"
   ]
  },
  {
   "cell_type": "code",
   "execution_count": 44,
   "id": "1292d350",
   "metadata": {},
   "outputs": [
    {
     "ename": "FileNotFoundError",
     "evalue": "[Errno 2] No such file or directory: '/Users/CMC/Desktop/Fall 2022/DS 2002/HW/google-python-exercises/babynames/-f'",
     "output_type": "error",
     "traceback": [
      "\u001b[0;31m---------------------------------------------------------------------------\u001b[0m",
      "\u001b[0;31mFileNotFoundError\u001b[0m                         Traceback (most recent call last)",
      "\u001b[0;32m<ipython-input-44-174f78df48e2>\u001b[0m in \u001b[0;36m<module>\u001b[0;34m\u001b[0m\n\u001b[1;32m      1\u001b[0m \u001b[0;32mif\u001b[0m \u001b[0m__name__\u001b[0m \u001b[0;34m==\u001b[0m \u001b[0;34m'__main__'\u001b[0m\u001b[0;34m:\u001b[0m\u001b[0;34m\u001b[0m\u001b[0;34m\u001b[0m\u001b[0m\n\u001b[0;32m----> 2\u001b[0;31m   \u001b[0mmain\u001b[0m\u001b[0;34m(\u001b[0m\u001b[0;34m)\u001b[0m\u001b[0;34m\u001b[0m\u001b[0;34m\u001b[0m\u001b[0m\n\u001b[0m",
      "\u001b[0;32m<ipython-input-43-9aa07e936354>\u001b[0m in \u001b[0;36mmain\u001b[0;34m()\u001b[0m\n\u001b[1;32m     20\u001b[0m \u001b[0;34m\u001b[0m\u001b[0m\n\u001b[1;32m     21\u001b[0m     \u001b[0;32mfor\u001b[0m \u001b[0mfilename\u001b[0m \u001b[0;32min\u001b[0m \u001b[0margs\u001b[0m\u001b[0;34m:\u001b[0m\u001b[0;34m\u001b[0m\u001b[0;34m\u001b[0m\u001b[0m\n\u001b[0;32m---> 22\u001b[0;31m         \u001b[0mnames\u001b[0m \u001b[0;34m=\u001b[0m \u001b[0mextract_names\u001b[0m\u001b[0;34m(\u001b[0m\u001b[0mfilename\u001b[0m\u001b[0;34m)\u001b[0m\u001b[0;34m\u001b[0m\u001b[0;34m\u001b[0m\u001b[0m\n\u001b[0m\u001b[1;32m     23\u001b[0m \u001b[0;34m\u001b[0m\u001b[0m\n\u001b[1;32m     24\u001b[0m     \u001b[0;31m# Make text out of the whole list\u001b[0m\u001b[0;34m\u001b[0m\u001b[0;34m\u001b[0m\u001b[0;34m\u001b[0m\u001b[0m\n",
      "\u001b[0;32m<ipython-input-34-8d3afc1d40f5>\u001b[0m in \u001b[0;36mextract_names\u001b[0;34m(filename)\u001b[0m\n\u001b[1;32m      8\u001b[0m     \u001b[0mnames\u001b[0m \u001b[0;34m=\u001b[0m \u001b[0;34m{\u001b[0m\u001b[0;34m}\u001b[0m\u001b[0;34m\u001b[0m\u001b[0;34m\u001b[0m\u001b[0m\n\u001b[1;32m      9\u001b[0m \u001b[0;34m\u001b[0m\u001b[0m\n\u001b[0;32m---> 10\u001b[0;31m     \u001b[0;32mfor\u001b[0m \u001b[0mline\u001b[0m \u001b[0;32min\u001b[0m \u001b[0mopen\u001b[0m\u001b[0;34m(\u001b[0m\u001b[0;34m'/Users/CMC/Desktop/Fall 2022/DS 2002/HW/google-python-exercises/babynames/'\u001b[0m\u001b[0;34m+\u001b[0m\u001b[0mfilename\u001b[0m\u001b[0;34m)\u001b[0m\u001b[0;34m:\u001b[0m\u001b[0;34m\u001b[0m\u001b[0;34m\u001b[0m\u001b[0m\n\u001b[0m\u001b[1;32m     11\u001b[0m         \u001b[0mtext\u001b[0m \u001b[0;34m=\u001b[0m \u001b[0mre\u001b[0m\u001b[0;34m.\u001b[0m\u001b[0mfindall\u001b[0m\u001b[0;34m(\u001b[0m\u001b[0;34m\"<td>(\\d*)</td><td>(\\S*?)</td><td>(\\S*?)</td>\"\u001b[0m\u001b[0;34m,\u001b[0m \u001b[0mline\u001b[0m\u001b[0;34m)\u001b[0m\u001b[0;34m\u001b[0m\u001b[0;34m\u001b[0m\u001b[0m\n\u001b[1;32m     12\u001b[0m         \u001b[0myear\u001b[0m \u001b[0;34m=\u001b[0m \u001b[0mre\u001b[0m\u001b[0;34m.\u001b[0m\u001b[0mfindall\u001b[0m\u001b[0;34m(\u001b[0m\u001b[0;34m'Popularity in (\\d*)'\u001b[0m\u001b[0;34m,\u001b[0m \u001b[0mline\u001b[0m\u001b[0;34m)\u001b[0m\u001b[0;34m\u001b[0m\u001b[0;34m\u001b[0m\u001b[0m\n",
      "\u001b[0;31mFileNotFoundError\u001b[0m: [Errno 2] No such file or directory: '/Users/CMC/Desktop/Fall 2022/DS 2002/HW/google-python-exercises/babynames/-f'"
     ]
    }
   ],
   "source": [
    "if __name__ == '__main__':\n",
    "  main()"
   ]
  },
  {
   "cell_type": "code",
   "execution_count": null,
   "id": "ab36ffb6",
   "metadata": {},
   "outputs": [],
   "source": []
  }
 ],
 "metadata": {
  "kernelspec": {
   "display_name": "Python 3",
   "language": "python",
   "name": "python3"
  },
  "language_info": {
   "codemirror_mode": {
    "name": "ipython",
    "version": 3
   },
   "file_extension": ".py",
   "mimetype": "text/x-python",
   "name": "python",
   "nbconvert_exporter": "python",
   "pygments_lexer": "ipython3",
   "version": "3.8.8"
  }
 },
 "nbformat": 4,
 "nbformat_minor": 5
}
