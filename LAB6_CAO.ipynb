{
 "cells": [
  {
   "cell_type": "code",
   "execution_count": 46,
   "id": "71d71685",
   "metadata": {},
   "outputs": [],
   "source": [
    "# Mianchen Cao \n",
    "# mc7sq\n",
    "# Lab 6"
   ]
  },
  {
   "cell_type": "code",
   "execution_count": 47,
   "id": "b8e33f2f",
   "metadata": {},
   "outputs": [],
   "source": [
    "#!/usr/bin/python\n",
    "# Copyright 2010 Google Inc.\n",
    "# Licensed under the Apache License, Version 2.0\n",
    "# http://www.apache.org/licenses/LICENSE-2.0\n",
    "\n",
    "# Google's Python Class\n",
    "# http://code.google.com/edu/languages/google-python-class/"
   ]
  },
  {
   "cell_type": "code",
   "execution_count": 48,
   "id": "599cb8ff",
   "metadata": {},
   "outputs": [],
   "source": [
    "import sys\n",
    "import re\n",
    "import glob"
   ]
  },
  {
   "cell_type": "code",
   "execution_count": 49,
   "id": "06478994",
   "metadata": {},
   "outputs": [],
   "source": [
    "#\"\"\"Baby Names exercise\n",
    "\n",
    "#Define the extract_names() function below and change main()\n",
    "#to call it.\n",
    "\n",
    "#For writing regex, it's nice to include a copy of the target\n",
    "#text for inspiration.\n",
    "\n",
    "#Here's what the html looks like in the baby.html files:\n",
    "#...\n",
    "#<h3 align=\"center\">Popularity in 1990</h3>\n",
    "#....\n",
    "#<tr align=\"right\"><td>1</td><td>Michael</td><td>Jessica</td>\n",
    "#<tr align=\"right\"><td>2</td><td>Christopher</td><td>Ashley</td>\n",
    "#<tr align=\"right\"><td>3</td><td>Matthew</td><td>Brittany</td>\n",
    "#...\n",
    "\n",
    "#Suggested milestones for incremental development:\n",
    "# -Extract the year and print it\n",
    "# -Extract the names and rank numbers and just print them\n",
    "# -Get the names data into a dict and print it\n",
    "# -Build the [year, 'name rank', ... ] list and print it\n",
    "# -Fix main() to use the extract_names list\n",
    "#\"\"\""
   ]
  },
  {
   "cell_type": "code",
   "execution_count": 50,
   "id": "751409c4",
   "metadata": {},
   "outputs": [],
   "source": [
    "def extract_names(filename):\n",
    "    '''\n",
    "    Given a file name for baby.html, returns a list starting with the year string\n",
    "    followed by the name-rank strings in alphabetical order.\n",
    "    ['2006', 'Aaliyah 91', Aaron 57', 'Abagail 895', ' ...]\n",
    "    '''\n",
    "    frequency = []\n",
    "    names = {}\n",
    "\n",
    "    for line in open('/Users/CMC/Desktop/Fall 2022/DS 2002/HW/google-python-exercises/babynames/'+filename):\n",
    "        text = re.findall(\"<td>(\\d*)</td><td>(\\S*?)</td><td>(\\S*?)</td>\", line)\n",
    "        year = re.findall('Popularity in (\\d*)', line)\n",
    "        if text:\n",
    "            rank = text[0][0]\n",
    "            male = text[0][1]\n",
    "            female = text[0][2]\n",
    "            names[male] = rank\n",
    "            names[female] = rank\n",
    "        if year:\n",
    "            frequency.append(year[0])\n",
    "            \n",
    "    for a,b in names.items():\n",
    "        frequency.append(a + \" \" + b)\n",
    "\n",
    "    return sorted(frequency)"
   ]
  },
  {
   "cell_type": "code",
   "execution_count": 51,
   "id": "7ce167cc",
   "metadata": {},
   "outputs": [],
   "source": [
    "def main():\n",
    "    # This command-line parsing code is provided.\n",
    "    # Make a list of command line arguments, omitting the [0] element\n",
    "    # which is the script itself.\n",
    "    args = sys.argv[1:]\n",
    "    \n",
    "    if not args:\n",
    "        print('usage: [--summaryfile] file [file ...]')\n",
    "        sys.exit(1)\n",
    "        \n",
    "    # Notice the summary flag and remove it from args if it is present.\n",
    "    summary = False\n",
    "    if args[0] == '--summaryfile':\n",
    "        summary = True\n",
    "        del args[0]\n",
    "        \n",
    "    # +++your code here+++\n",
    "    # For each filename, get the names, then either print the text output\n",
    "    # or write it to a summary file\n",
    "    \n",
    "    for filename in args:\n",
    "        names = extract_names(filename)\n",
    "\n",
    "    # Make text out of the whole list\n",
    "    text = '\\n'.join(names)\n",
    "\n",
    "    if summary:\n",
    "        outf = open('/Users/CMC/Desktop/Fall 2022/DS 2002/HW/google-python-exercises/babynames/'+filename + '.summary', 'w')\n",
    "        outf.write(text + '\\n')\n",
    "        outf.close()\n",
    "    else:\n",
    "        print(text)"
   ]
  },
  {
   "cell_type": "code",
   "execution_count": null,
   "id": "1d7e3f30",
   "metadata": {},
   "outputs": [],
   "source": [
    "if __name__ == '__main__':\n",
    "  main()"
   ]
  }
 ],
 "metadata": {
  "kernelspec": {
   "display_name": "Python 3",
   "language": "python",
   "name": "python3"
  },
  "language_info": {
   "codemirror_mode": {
    "name": "ipython",
    "version": 3
   },
   "file_extension": ".py",
   "mimetype": "text/x-python",
   "name": "python",
   "nbconvert_exporter": "python",
   "pygments_lexer": "ipython3",
   "version": "3.8.8"
  }
 },
 "nbformat": 4,
 "nbformat_minor": 5
}
