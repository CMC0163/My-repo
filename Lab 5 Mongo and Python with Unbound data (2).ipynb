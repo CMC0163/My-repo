{
 "cells": [
  {
   "cell_type": "code",
   "execution_count": null,
   "id": "ff497279",
   "metadata": {},
   "outputs": [],
   "source": [
    "# Avery Schebell (ajs6av); Amshala Bharathan (ab5sz); Mianchen Cao (mc7sq)"
   ]
  },
  {
   "cell_type": "code",
   "execution_count": 27,
   "id": "865a2f83",
   "metadata": {},
   "outputs": [
    {
     "data": {
      "text/plain": [
       "<Response [200]>"
      ]
     },
     "execution_count": 27,
     "metadata": {},
     "output_type": "execute_result"
    }
   ],
   "source": [
    "import requests\n",
    "page = requests.get(\"https://dataquestio.github.io/web-scraping-pages/simple.html\")\n",
    "page"
   ]
  },
  {
   "cell_type": "code",
   "execution_count": 29,
   "id": "0d7b1891",
   "metadata": {},
   "outputs": [
    {
     "data": {
      "text/plain": [
       "200"
      ]
     },
     "execution_count": 29,
     "metadata": {},
     "output_type": "execute_result"
    }
   ],
   "source": [
    "page.status_code"
   ]
  },
  {
   "cell_type": "code",
   "execution_count": 30,
   "id": "9de3474a",
   "metadata": {},
   "outputs": [
    {
     "data": {
      "text/plain": [
       "b'<!DOCTYPE html>\\n<html>\\n    <head>\\n        <title>A simple example page</title>\\n    </head>\\n    <body>\\n        <p>Here is some simple content for this page.</p>\\n    </body>\\n</html>'"
      ]
     },
     "execution_count": 30,
     "metadata": {},
     "output_type": "execute_result"
    }
   ],
   "source": [
    "page.content"
   ]
  },
  {
   "cell_type": "code",
   "execution_count": 31,
   "id": "79a4f94a",
   "metadata": {},
   "outputs": [],
   "source": [
    "from bs4 import BeautifulSoup\n",
    "soup = BeautifulSoup(page.content,'html.parser')"
   ]
  },
  {
   "cell_type": "code",
   "execution_count": 32,
   "id": "258136e9",
   "metadata": {},
   "outputs": [
    {
     "name": "stdout",
     "output_type": "stream",
     "text": [
      "<!DOCTYPE html>\n",
      "<html>\n",
      " <head>\n",
      "  <title>\n",
      "   A simple example page\n",
      "  </title>\n",
      " </head>\n",
      " <body>\n",
      "  <p>\n",
      "   Here is some simple content for this page.\n",
      "  </p>\n",
      " </body>\n",
      "</html>\n"
     ]
    }
   ],
   "source": [
    "print(soup.prettify())"
   ]
  },
  {
   "cell_type": "code",
   "execution_count": 33,
   "id": "ee8ed51b",
   "metadata": {},
   "outputs": [
    {
     "data": {
      "text/plain": [
       "['html',\n",
       " '\\n',\n",
       " <html>\n",
       " <head>\n",
       " <title>A simple example page</title>\n",
       " </head>\n",
       " <body>\n",
       " <p>Here is some simple content for this page.</p>\n",
       " </body>\n",
       " </html>]"
      ]
     },
     "execution_count": 33,
     "metadata": {},
     "output_type": "execute_result"
    }
   ],
   "source": [
    "list(soup.children)"
   ]
  },
  {
   "cell_type": "code",
   "execution_count": 34,
   "id": "1727e194",
   "metadata": {},
   "outputs": [
    {
     "data": {
      "text/plain": [
       "[bs4.element.Doctype, bs4.element.NavigableString, bs4.element.Tag]"
      ]
     },
     "execution_count": 34,
     "metadata": {},
     "output_type": "execute_result"
    }
   ],
   "source": [
    "[type(item) for item in list(soup.children)]"
   ]
  },
  {
   "cell_type": "code",
   "execution_count": 35,
   "id": "90d56c69",
   "metadata": {},
   "outputs": [],
   "source": [
    "html = list(soup.children)[2]"
   ]
  },
  {
   "cell_type": "code",
   "execution_count": 36,
   "id": "a47388e5",
   "metadata": {},
   "outputs": [
    {
     "data": {
      "text/plain": [
       "['\\n',\n",
       " <head>\n",
       " <title>A simple example page</title>\n",
       " </head>,\n",
       " '\\n',\n",
       " <body>\n",
       " <p>Here is some simple content for this page.</p>\n",
       " </body>,\n",
       " '\\n']"
      ]
     },
     "execution_count": 36,
     "metadata": {},
     "output_type": "execute_result"
    }
   ],
   "source": [
    "list(html.children)"
   ]
  },
  {
   "cell_type": "code",
   "execution_count": 37,
   "id": "7e8e0518",
   "metadata": {},
   "outputs": [],
   "source": [
    "body = list(html.children)[3]"
   ]
  },
  {
   "cell_type": "code",
   "execution_count": 38,
   "id": "9b465385",
   "metadata": {},
   "outputs": [
    {
     "data": {
      "text/plain": [
       "['\\n', <p>Here is some simple content for this page.</p>, '\\n']"
      ]
     },
     "execution_count": 38,
     "metadata": {},
     "output_type": "execute_result"
    }
   ],
   "source": [
    "list(body.children)"
   ]
  },
  {
   "cell_type": "code",
   "execution_count": 39,
   "id": "d7f3e6be",
   "metadata": {},
   "outputs": [],
   "source": [
    "p = list(body.children)[1]"
   ]
  },
  {
   "cell_type": "code",
   "execution_count": 40,
   "id": "0be14fa9",
   "metadata": {},
   "outputs": [
    {
     "data": {
      "text/plain": [
       "'Here is some simple content for this page.'"
      ]
     },
     "execution_count": 40,
     "metadata": {},
     "output_type": "execute_result"
    }
   ],
   "source": [
    "p.get_text()"
   ]
  },
  {
   "cell_type": "code",
   "execution_count": 41,
   "id": "ae3fecb8",
   "metadata": {},
   "outputs": [
    {
     "data": {
      "text/plain": [
       "[<p>Here is some simple content for this page.</p>]"
      ]
     },
     "execution_count": 41,
     "metadata": {},
     "output_type": "execute_result"
    }
   ],
   "source": [
    "soup = BeautifulSoup(page.content, 'html.parser')\n",
    "soup.find_all('p')"
   ]
  },
  {
   "cell_type": "code",
   "execution_count": 42,
   "id": "7865b6a5",
   "metadata": {},
   "outputs": [
    {
     "data": {
      "text/plain": [
       "'Here is some simple content for this page.'"
      ]
     },
     "execution_count": 42,
     "metadata": {},
     "output_type": "execute_result"
    }
   ],
   "source": [
    "soup.find_all('p')[0].get_text()"
   ]
  },
  {
   "cell_type": "code",
   "execution_count": 43,
   "id": "4a120050",
   "metadata": {},
   "outputs": [
    {
     "data": {
      "text/plain": [
       "<p>Here is some simple content for this page.</p>"
      ]
     },
     "execution_count": 43,
     "metadata": {},
     "output_type": "execute_result"
    }
   ],
   "source": [
    "soup.find('p')"
   ]
  },
  {
   "cell_type": "code",
   "execution_count": 44,
   "id": "892fe644",
   "metadata": {},
   "outputs": [
    {
     "data": {
      "text/plain": [
       "<html>\n",
       "<head>\n",
       "<title>A simple example page</title>\n",
       "</head>\n",
       "<body>\n",
       "<div>\n",
       "<p class=\"inner-text first-item\" id=\"first\">\n",
       "                First paragraph.\n",
       "            </p>\n",
       "<p class=\"inner-text\">\n",
       "                Second paragraph.\n",
       "            </p>\n",
       "</div>\n",
       "<p class=\"outer-text first-item\" id=\"second\">\n",
       "<b>\n",
       "                First outer paragraph.\n",
       "            </b>\n",
       "</p>\n",
       "<p class=\"outer-text\">\n",
       "<b>\n",
       "                Second outer paragraph.\n",
       "            </b>\n",
       "</p>\n",
       "</body>\n",
       "</html>"
      ]
     },
     "execution_count": 44,
     "metadata": {},
     "output_type": "execute_result"
    }
   ],
   "source": [
    "page = requests.get('https://dataquestio.github.io/web-scraping-pages/ids_and_classes.html')\n",
    "soup = BeautifulSoup(page.content,'html.parser')\n",
    "soup"
   ]
  },
  {
   "cell_type": "code",
   "execution_count": 45,
   "id": "e7d43822",
   "metadata": {},
   "outputs": [
    {
     "data": {
      "text/plain": [
       "[<p class=\"outer-text first-item\" id=\"second\">\n",
       " <b>\n",
       "                 First outer paragraph.\n",
       "             </b>\n",
       " </p>,\n",
       " <p class=\"outer-text\">\n",
       " <b>\n",
       "                 Second outer paragraph.\n",
       "             </b>\n",
       " </p>]"
      ]
     },
     "execution_count": 45,
     "metadata": {},
     "output_type": "execute_result"
    }
   ],
   "source": [
    "soup.find_all('p',class_='outer-text')"
   ]
  },
  {
   "cell_type": "code",
   "execution_count": 46,
   "id": "5b30fca9",
   "metadata": {},
   "outputs": [
    {
     "data": {
      "text/plain": [
       "[<p class=\"outer-text first-item\" id=\"second\">\n",
       " <b>\n",
       "                 First outer paragraph.\n",
       "             </b>\n",
       " </p>,\n",
       " <p class=\"outer-text\">\n",
       " <b>\n",
       "                 Second outer paragraph.\n",
       "             </b>\n",
       " </p>]"
      ]
     },
     "execution_count": 46,
     "metadata": {},
     "output_type": "execute_result"
    }
   ],
   "source": [
    "soup.find_all(class_='outer-text')"
   ]
  },
  {
   "cell_type": "code",
   "execution_count": 47,
   "id": "25374e6e",
   "metadata": {},
   "outputs": [
    {
     "data": {
      "text/plain": [
       "[<p class=\"inner-text first-item\" id=\"first\">\n",
       "                 First paragraph.\n",
       "             </p>]"
      ]
     },
     "execution_count": 47,
     "metadata": {},
     "output_type": "execute_result"
    }
   ],
   "source": [
    "soup.find_all(id='first')"
   ]
  },
  {
   "cell_type": "code",
   "execution_count": 48,
   "id": "a8e77135",
   "metadata": {},
   "outputs": [
    {
     "data": {
      "text/plain": [
       "[<p class=\"inner-text first-item\" id=\"first\">\n",
       "                 First paragraph.\n",
       "             </p>,\n",
       " <p class=\"inner-text\">\n",
       "                 Second paragraph.\n",
       "             </p>]"
      ]
     },
     "execution_count": 48,
     "metadata": {},
     "output_type": "execute_result"
    }
   ],
   "source": [
    "soup.select('div p')"
   ]
  },
  {
   "cell_type": "code",
   "execution_count": 51,
   "id": "08eefba4",
   "metadata": {},
   "outputs": [
    {
     "name": "stdout",
     "output_type": "stream",
     "text": [
      "Please enter a zipcode: \n",
      "22903\n",
      "-78.4924 38.0339\n"
     ]
    }
   ],
   "source": [
    "import pgeocode\n",
    "print(\"Please enter a zipcode: \")\n",
    "zipcode = input()\n",
    "nomi = pgeocode.Nominatim('us')\n",
    "# nomi.query_postal_code(zipcode)\n",
    "longitude = str(nomi.query_postal_code(zipcode)['longitude'])\n",
    "latitude = str(nomi.query_postal_code(zipcode)['latitude'])\n",
    "print(longitude,latitude)\n"
   ]
  },
  {
   "cell_type": "code",
   "execution_count": 52,
   "id": "11278170",
   "metadata": {},
   "outputs": [
    {
     "name": "stdout",
     "output_type": "stream",
     "text": [
      "<div class=\"tombstone-container\">\n",
      " <p class=\"period-name\">\n",
      "  This\n",
      "  <br/>\n",
      "  Afternoon\n",
      " </p>\n",
      " <p>\n",
      "  <img alt=\"This Afternoon: Mostly sunny, with a high near 52. Northwest wind around 11 mph, with gusts as high as 18 mph. \" class=\"forecast-icon\" src=\"newimages/medium/sct.png\" title=\"This Afternoon: Mostly sunny, with a high near 52. Northwest wind around 11 mph, with gusts as high as 18 mph. \"/>\n",
      " </p>\n",
      " <p class=\"short-desc\">\n",
      "  Mostly Sunny\n",
      " </p>\n",
      " <p class=\"temp temp-high\">\n",
      "  High: 52 °F\n",
      " </p>\n",
      "</div>\n",
      "[<div class=\"tombstone-container\">\n",
      "<p class=\"period-name\">This<br/>Afternoon</p>\n",
      "<p><img alt=\"This Afternoon: Mostly sunny, with a high near 52. Northwest wind around 11 mph, with gusts as high as 18 mph. \" class=\"forecast-icon\" src=\"newimages/medium/sct.png\" title=\"This Afternoon: Mostly sunny, with a high near 52. Northwest wind around 11 mph, with gusts as high as 18 mph. \"/></p><p class=\"short-desc\">Mostly Sunny</p><p class=\"temp temp-high\">High: 52 °F</p></div>, <div class=\"tombstone-container\">\n",
      "<p class=\"period-name\">Tonight<br/><br/></p>\n",
      "<p><img alt=\"Tonight: Clear, with a low around 28. Northwest wind 3 to 8 mph. \" class=\"forecast-icon\" src=\"newimages/medium/nskc.png\" title=\"Tonight: Clear, with a low around 28. Northwest wind 3 to 8 mph. \"/></p><p class=\"short-desc\">Clear</p><p class=\"temp temp-low\">Low: 28 °F</p></div>, <div class=\"tombstone-container\">\n",
      "<p class=\"period-name\">Monday<br/><br/></p>\n",
      "<p><img alt=\"Monday: Sunny, with a high near 49. Light and variable wind. \" class=\"forecast-icon\" src=\"newimages/medium/few.png\" title=\"Monday: Sunny, with a high near 49. Light and variable wind. \"/></p><p class=\"short-desc\">Sunny</p><p class=\"temp temp-high\">High: 49 °F</p></div>, <div class=\"tombstone-container\">\n",
      "<p class=\"period-name\">Monday<br/>Night</p>\n",
      "<p><img alt=\"Monday Night: Mostly clear, with a low around 27. Calm wind. \" class=\"forecast-icon\" src=\"newimages/medium/nfew.png\" title=\"Monday Night: Mostly clear, with a low around 27. Calm wind. \"/></p><p class=\"short-desc\">Mostly Clear</p><p class=\"temp temp-low\">Low: 27 °F</p></div>, <div class=\"tombstone-container\">\n",
      "<p class=\"period-name\">Tuesday<br/><br/></p>\n",
      "<p><img alt=\"Tuesday: Rain, mainly after 1pm.  High near 43. Calm wind becoming northeast around 5 mph in the morning.  Chance of precipitation is 90%.\" class=\"forecast-icon\" src=\"DualImage.php?i=ra&amp;j=ra&amp;ip=50&amp;jp=90\" title=\"Tuesday: Rain, mainly after 1pm.  High near 43. Calm wind becoming northeast around 5 mph in the morning.  Chance of precipitation is 90%.\"/></p><p class=\"short-desc\">Chance Rain<br/>then Rain</p><p class=\"temp temp-high\">High: 43 °F</p></div>, <div class=\"tombstone-container\">\n",
      "<p class=\"period-name\">Tuesday<br/>Night</p>\n",
      "<p><img alt=\"Tuesday Night: Rain, mainly before 1am.  Low around 36. Chance of precipitation is 80%.\" class=\"forecast-icon\" src=\"newimages/medium/nra80.png\" title=\"Tuesday Night: Rain, mainly before 1am.  Low around 36. Chance of precipitation is 80%.\"/></p><p class=\"short-desc\">Rain</p><p class=\"temp temp-low\">Low: 36 °F</p></div>, <div class=\"tombstone-container\">\n",
      "<p class=\"period-name\">Wednesday<br/><br/></p>\n",
      "<p><img alt=\"Wednesday: Mostly sunny, with a high near 53.\" class=\"forecast-icon\" src=\"newimages/medium/sct.png\" title=\"Wednesday: Mostly sunny, with a high near 53.\"/></p><p class=\"short-desc\">Mostly Sunny</p><p class=\"temp temp-high\">High: 53 °F</p></div>, <div class=\"tombstone-container\">\n",
      "<p class=\"period-name\">Wednesday<br/>Night</p>\n",
      "<p><img alt=\"Wednesday Night: Mostly clear, with a low around 29.\" class=\"forecast-icon\" src=\"newimages/medium/nfew.png\" title=\"Wednesday Night: Mostly clear, with a low around 29.\"/></p><p class=\"short-desc\">Mostly Clear</p><p class=\"temp temp-low\">Low: 29 °F</p></div>, <div class=\"tombstone-container\">\n",
      "<p class=\"period-name\">Thursday<br/><br/></p>\n",
      "<p><img alt=\"Thursday: Sunny, with a high near 46.\" class=\"forecast-icon\" src=\"newimages/medium/few.png\" title=\"Thursday: Sunny, with a high near 46.\"/></p><p class=\"short-desc\">Sunny</p><p class=\"temp temp-high\">High: 46 °F</p></div>]\n"
     ]
    }
   ],
   "source": [
    "page = requests.get(\"https://forecast.weather.gov/MapClick.php?lat=\"+latitude+\"&lon=\"+longitude)\n",
    "soup = BeautifulSoup(page.content, 'html.parser')\n",
    "seven_day = soup.find(id=\"seven-day-forecast\")\n",
    "forecast_items = seven_day.find_all(class_=\"tombstone-container\")\n",
    "tonight = forecast_items[0]\n",
    "print(tonight.prettify())\n",
    "print(forecast_items)"
   ]
  },
  {
   "cell_type": "code",
   "execution_count": 53,
   "id": "176f3999",
   "metadata": {},
   "outputs": [
    {
     "name": "stdout",
     "output_type": "stream",
     "text": [
      "ThisAfternoon\n",
      "Mostly Sunny\n",
      "High: 52 °F\n"
     ]
    }
   ],
   "source": [
    "period = tonight.find(class_='period-name').get_text()\n",
    "short_desc = tonight.find(class_='short-desc').get_text()\n",
    "temp=tonight.find(class_='temp').get_text()\n",
    "print(period)\n",
    "print(short_desc)\n",
    "print(temp)"
   ]
  },
  {
   "cell_type": "code",
   "execution_count": 54,
   "id": "ec1acae2",
   "metadata": {},
   "outputs": [
    {
     "name": "stdout",
     "output_type": "stream",
     "text": [
      "This Afternoon: Mostly sunny, with a high near 52. Northwest wind around 11 mph, with gusts as high as 18 mph. \n"
     ]
    }
   ],
   "source": [
    "img = tonight.find('img')\n",
    "desc = img['title']\n",
    "print(desc)"
   ]
  },
  {
   "cell_type": "code",
   "execution_count": 55,
   "id": "033ad3db",
   "metadata": {},
   "outputs": [
    {
     "data": {
      "text/plain": [
       "['ThisAfternoon',\n",
       " 'Tonight',\n",
       " 'Monday',\n",
       " 'MondayNight',\n",
       " 'Tuesday',\n",
       " 'TuesdayNight',\n",
       " 'Wednesday',\n",
       " 'WednesdayNight',\n",
       " 'Thursday']"
      ]
     },
     "execution_count": 55,
     "metadata": {},
     "output_type": "execute_result"
    }
   ],
   "source": [
    "period_tags = seven_day.select(\".tombstone-container .period-name\")\n",
    "periods = [pt.get_text() for pt in period_tags]\n",
    "periods"
   ]
  },
  {
   "cell_type": "code",
   "execution_count": 56,
   "id": "809bb04b",
   "metadata": {},
   "outputs": [
    {
     "name": "stdout",
     "output_type": "stream",
     "text": [
      "['Mostly Sunny', 'Clear', 'Sunny', 'Mostly Clear', 'Chance Rainthen Rain', 'Rain', 'Mostly Sunny', 'Mostly Clear', 'Sunny'] ['High: 52 °F', 'Low: 28 °F', 'High: 49 °F', 'Low: 27 °F', 'High: 43 °F', 'Low: 36 °F', 'High: 53 °F', 'Low: 29 °F', 'High: 46 °F'] ['This Afternoon: Mostly sunny, with a high near 52. Northwest wind around 11 mph, with gusts as high as 18 mph. ', 'Tonight: Clear, with a low around 28. Northwest wind 3 to 8 mph. ', 'Monday: Sunny, with a high near 49. Light and variable wind. ', 'Monday Night: Mostly clear, with a low around 27. Calm wind. ', 'Tuesday: Rain, mainly after 1pm.  High near 43. Calm wind becoming northeast around 5 mph in the morning.  Chance of precipitation is 90%.', 'Tuesday Night: Rain, mainly before 1am.  Low around 36. Chance of precipitation is 80%.', 'Wednesday: Mostly sunny, with a high near 53.', 'Wednesday Night: Mostly clear, with a low around 29.', 'Thursday: Sunny, with a high near 46.']\n"
     ]
    }
   ],
   "source": [
    "short_descs = [sd.get_text() for sd in seven_day.select('.tombstone-container .short-desc')]\n",
    "temps = [t.get_text() for t in seven_day.select('.tombstone-container .temp')]\n",
    "descs = [d['title'] for d in seven_day.select('.tombstone-container img')]\n",
    "print(short_descs,temps,descs)\n"
   ]
  },
  {
   "cell_type": "code",
   "execution_count": 57,
   "id": "110df288",
   "metadata": {
    "scrolled": true
   },
   "outputs": [
    {
     "data": {
      "text/html": [
       "<div>\n",
       "<style scoped>\n",
       "    .dataframe tbody tr th:only-of-type {\n",
       "        vertical-align: middle;\n",
       "    }\n",
       "\n",
       "    .dataframe tbody tr th {\n",
       "        vertical-align: top;\n",
       "    }\n",
       "\n",
       "    .dataframe thead th {\n",
       "        text-align: right;\n",
       "    }\n",
       "</style>\n",
       "<table border=\"1\" class=\"dataframe\">\n",
       "  <thead>\n",
       "    <tr style=\"text-align: right;\">\n",
       "      <th></th>\n",
       "      <th>period</th>\n",
       "      <th>short_desc</th>\n",
       "      <th>temp</th>\n",
       "      <th>desc</th>\n",
       "    </tr>\n",
       "  </thead>\n",
       "  <tbody>\n",
       "    <tr>\n",
       "      <th>0</th>\n",
       "      <td>ThisAfternoon</td>\n",
       "      <td>Mostly Sunny</td>\n",
       "      <td>High: 52 °F</td>\n",
       "      <td>This Afternoon: Mostly sunny, with a high near...</td>\n",
       "    </tr>\n",
       "    <tr>\n",
       "      <th>1</th>\n",
       "      <td>Tonight</td>\n",
       "      <td>Clear</td>\n",
       "      <td>Low: 28 °F</td>\n",
       "      <td>Tonight: Clear, with a low around 28. Northwes...</td>\n",
       "    </tr>\n",
       "    <tr>\n",
       "      <th>2</th>\n",
       "      <td>Monday</td>\n",
       "      <td>Sunny</td>\n",
       "      <td>High: 49 °F</td>\n",
       "      <td>Monday: Sunny, with a high near 49. Light and ...</td>\n",
       "    </tr>\n",
       "    <tr>\n",
       "      <th>3</th>\n",
       "      <td>MondayNight</td>\n",
       "      <td>Mostly Clear</td>\n",
       "      <td>Low: 27 °F</td>\n",
       "      <td>Monday Night: Mostly clear, with a low around ...</td>\n",
       "    </tr>\n",
       "    <tr>\n",
       "      <th>4</th>\n",
       "      <td>Tuesday</td>\n",
       "      <td>Chance Rainthen Rain</td>\n",
       "      <td>High: 43 °F</td>\n",
       "      <td>Tuesday: Rain, mainly after 1pm.  High near 43...</td>\n",
       "    </tr>\n",
       "    <tr>\n",
       "      <th>5</th>\n",
       "      <td>TuesdayNight</td>\n",
       "      <td>Rain</td>\n",
       "      <td>Low: 36 °F</td>\n",
       "      <td>Tuesday Night: Rain, mainly before 1am.  Low a...</td>\n",
       "    </tr>\n",
       "    <tr>\n",
       "      <th>6</th>\n",
       "      <td>Wednesday</td>\n",
       "      <td>Mostly Sunny</td>\n",
       "      <td>High: 53 °F</td>\n",
       "      <td>Wednesday: Mostly sunny, with a high near 53.</td>\n",
       "    </tr>\n",
       "    <tr>\n",
       "      <th>7</th>\n",
       "      <td>WednesdayNight</td>\n",
       "      <td>Mostly Clear</td>\n",
       "      <td>Low: 29 °F</td>\n",
       "      <td>Wednesday Night: Mostly clear, with a low arou...</td>\n",
       "    </tr>\n",
       "    <tr>\n",
       "      <th>8</th>\n",
       "      <td>Thursday</td>\n",
       "      <td>Sunny</td>\n",
       "      <td>High: 46 °F</td>\n",
       "      <td>Thursday: Sunny, with a high near 46.</td>\n",
       "    </tr>\n",
       "  </tbody>\n",
       "</table>\n",
       "</div>"
      ],
      "text/plain": [
       "           period            short_desc         temp  \\\n",
       "0   ThisAfternoon          Mostly Sunny  High: 52 °F   \n",
       "1         Tonight                 Clear   Low: 28 °F   \n",
       "2          Monday                 Sunny  High: 49 °F   \n",
       "3     MondayNight          Mostly Clear   Low: 27 °F   \n",
       "4         Tuesday  Chance Rainthen Rain  High: 43 °F   \n",
       "5    TuesdayNight                  Rain   Low: 36 °F   \n",
       "6       Wednesday          Mostly Sunny  High: 53 °F   \n",
       "7  WednesdayNight          Mostly Clear   Low: 29 °F   \n",
       "8        Thursday                 Sunny  High: 46 °F   \n",
       "\n",
       "                                                desc  \n",
       "0  This Afternoon: Mostly sunny, with a high near...  \n",
       "1  Tonight: Clear, with a low around 28. Northwes...  \n",
       "2  Monday: Sunny, with a high near 49. Light and ...  \n",
       "3  Monday Night: Mostly clear, with a low around ...  \n",
       "4  Tuesday: Rain, mainly after 1pm.  High near 43...  \n",
       "5  Tuesday Night: Rain, mainly before 1am.  Low a...  \n",
       "6      Wednesday: Mostly sunny, with a high near 53.  \n",
       "7  Wednesday Night: Mostly clear, with a low arou...  \n",
       "8              Thursday: Sunny, with a high near 46.  "
      ]
     },
     "execution_count": 57,
     "metadata": {},
     "output_type": "execute_result"
    }
   ],
   "source": [
    "#Seven day forecast\n",
    "import pandas as pd\n",
    "weather = pd.DataFrame({\n",
    "    'period':periods,\n",
    "    'short_desc':short_descs,\n",
    "    'temp':temps,\n",
    "    'desc':descs\n",
    "})\n",
    "weather"
   ]
  },
  {
   "cell_type": "code",
   "execution_count": 58,
   "id": "d2e30816",
   "metadata": {},
   "outputs": [
    {
     "data": {
      "text/plain": [
       "0    52\n",
       "1    28\n",
       "2    49\n",
       "3    27\n",
       "4    43\n",
       "5    36\n",
       "6    53\n",
       "7    29\n",
       "8    46\n",
       "Name: temp_num, dtype: object"
      ]
     },
     "execution_count": 58,
     "metadata": {},
     "output_type": "execute_result"
    }
   ],
   "source": [
    "\n",
    "temp_nums = weather[\"temp\"].str.extract(\"(?P<temp_num>\\d+)\", expand=False)\n",
    "weather['temp_num']=temp_nums.astype('int')\n",
    "temp_nums\n"
   ]
  },
  {
   "cell_type": "code",
   "execution_count": 59,
   "id": "c821b07c",
   "metadata": {},
   "outputs": [
    {
     "data": {
      "text/plain": [
       "40.333333333333336"
      ]
     },
     "execution_count": 59,
     "metadata": {},
     "output_type": "execute_result"
    }
   ],
   "source": [
    "weather['temp_num'].mean()"
   ]
  },
  {
   "cell_type": "code",
   "execution_count": 60,
   "id": "4a970639",
   "metadata": {},
   "outputs": [
    {
     "data": {
      "text/plain": [
       "0    False\n",
       "1     True\n",
       "2    False\n",
       "3     True\n",
       "4    False\n",
       "5     True\n",
       "6    False\n",
       "7     True\n",
       "8    False\n",
       "Name: temp, dtype: bool"
      ]
     },
     "execution_count": 60,
     "metadata": {},
     "output_type": "execute_result"
    }
   ],
   "source": [
    "is_night=weather['temp'].str.contains(\"Low\")\n",
    "weather['is_night']=is_night\n",
    "is_night"
   ]
  },
  {
   "cell_type": "code",
   "execution_count": 77,
   "id": "49e0040c",
   "metadata": {},
   "outputs": [
    {
     "data": {
      "text/html": [
       "<div>\n",
       "<style scoped>\n",
       "    .dataframe tbody tr th:only-of-type {\n",
       "        vertical-align: middle;\n",
       "    }\n",
       "\n",
       "    .dataframe tbody tr th {\n",
       "        vertical-align: top;\n",
       "    }\n",
       "\n",
       "    .dataframe thead th {\n",
       "        text-align: right;\n",
       "    }\n",
       "</style>\n",
       "<table border=\"1\" class=\"dataframe\">\n",
       "  <thead>\n",
       "    <tr style=\"text-align: right;\">\n",
       "      <th></th>\n",
       "      <th>period</th>\n",
       "      <th>short_desc</th>\n",
       "      <th>temp</th>\n",
       "      <th>desc</th>\n",
       "      <th>temp_num</th>\n",
       "      <th>is_night</th>\n",
       "    </tr>\n",
       "  </thead>\n",
       "  <tbody>\n",
       "    <tr>\n",
       "      <th>0</th>\n",
       "      <td>ThisAfternoon</td>\n",
       "      <td>Mostly Sunny</td>\n",
       "      <td>High: 52 °F</td>\n",
       "      <td>This Afternoon: Mostly sunny, with a high near...</td>\n",
       "      <td>52</td>\n",
       "      <td>False</td>\n",
       "    </tr>\n",
       "    <tr>\n",
       "      <th>1</th>\n",
       "      <td>Tonight</td>\n",
       "      <td>Clear</td>\n",
       "      <td>Low: 28 °F</td>\n",
       "      <td>Tonight: Clear, with a low around 28. Northwes...</td>\n",
       "      <td>28</td>\n",
       "      <td>True</td>\n",
       "    </tr>\n",
       "    <tr>\n",
       "      <th>2</th>\n",
       "      <td>Monday</td>\n",
       "      <td>Sunny</td>\n",
       "      <td>High: 49 °F</td>\n",
       "      <td>Monday: Sunny, with a high near 49. Light and ...</td>\n",
       "      <td>49</td>\n",
       "      <td>False</td>\n",
       "    </tr>\n",
       "    <tr>\n",
       "      <th>3</th>\n",
       "      <td>MondayNight</td>\n",
       "      <td>Mostly Clear</td>\n",
       "      <td>Low: 27 °F</td>\n",
       "      <td>Monday Night: Mostly clear, with a low around ...</td>\n",
       "      <td>27</td>\n",
       "      <td>True</td>\n",
       "    </tr>\n",
       "    <tr>\n",
       "      <th>4</th>\n",
       "      <td>Tuesday</td>\n",
       "      <td>Chance Rainthen Rain</td>\n",
       "      <td>High: 43 °F</td>\n",
       "      <td>Tuesday: Rain, mainly after 1pm.  High near 43...</td>\n",
       "      <td>43</td>\n",
       "      <td>False</td>\n",
       "    </tr>\n",
       "    <tr>\n",
       "      <th>5</th>\n",
       "      <td>TuesdayNight</td>\n",
       "      <td>Rain</td>\n",
       "      <td>Low: 36 °F</td>\n",
       "      <td>Tuesday Night: Rain, mainly before 1am.  Low a...</td>\n",
       "      <td>36</td>\n",
       "      <td>True</td>\n",
       "    </tr>\n",
       "    <tr>\n",
       "      <th>6</th>\n",
       "      <td>Wednesday</td>\n",
       "      <td>Mostly Sunny</td>\n",
       "      <td>High: 53 °F</td>\n",
       "      <td>Wednesday: Mostly sunny, with a high near 53.</td>\n",
       "      <td>53</td>\n",
       "      <td>False</td>\n",
       "    </tr>\n",
       "    <tr>\n",
       "      <th>7</th>\n",
       "      <td>WednesdayNight</td>\n",
       "      <td>Mostly Clear</td>\n",
       "      <td>Low: 29 °F</td>\n",
       "      <td>Wednesday Night: Mostly clear, with a low arou...</td>\n",
       "      <td>29</td>\n",
       "      <td>True</td>\n",
       "    </tr>\n",
       "    <tr>\n",
       "      <th>8</th>\n",
       "      <td>Thursday</td>\n",
       "      <td>Sunny</td>\n",
       "      <td>High: 46 °F</td>\n",
       "      <td>Thursday: Sunny, with a high near 46.</td>\n",
       "      <td>46</td>\n",
       "      <td>False</td>\n",
       "    </tr>\n",
       "  </tbody>\n",
       "</table>\n",
       "</div>"
      ],
      "text/plain": [
       "           period            short_desc         temp  \\\n",
       "0   ThisAfternoon          Mostly Sunny  High: 52 °F   \n",
       "1         Tonight                 Clear   Low: 28 °F   \n",
       "2          Monday                 Sunny  High: 49 °F   \n",
       "3     MondayNight          Mostly Clear   Low: 27 °F   \n",
       "4         Tuesday  Chance Rainthen Rain  High: 43 °F   \n",
       "5    TuesdayNight                  Rain   Low: 36 °F   \n",
       "6       Wednesday          Mostly Sunny  High: 53 °F   \n",
       "7  WednesdayNight          Mostly Clear   Low: 29 °F   \n",
       "8        Thursday                 Sunny  High: 46 °F   \n",
       "\n",
       "                                                desc  temp_num  is_night  \n",
       "0  This Afternoon: Mostly sunny, with a high near...        52     False  \n",
       "1  Tonight: Clear, with a low around 28. Northwes...        28      True  \n",
       "2  Monday: Sunny, with a high near 49. Light and ...        49     False  \n",
       "3  Monday Night: Mostly clear, with a low around ...        27      True  \n",
       "4  Tuesday: Rain, mainly after 1pm.  High near 43...        43     False  \n",
       "5  Tuesday Night: Rain, mainly before 1am.  Low a...        36      True  \n",
       "6      Wednesday: Mostly sunny, with a high near 53.        53     False  \n",
       "7  Wednesday Night: Mostly clear, with a low arou...        29      True  \n",
       "8              Thursday: Sunny, with a high near 46.        46     False  "
      ]
     },
     "execution_count": 77,
     "metadata": {},
     "output_type": "execute_result"
    }
   ],
   "source": [
    "weather"
   ]
  },
  {
   "cell_type": "code",
   "execution_count": 62,
   "id": "d32ba78f",
   "metadata": {},
   "outputs": [
    {
     "data": {
      "text/html": [
       "<div>\n",
       "<style scoped>\n",
       "    .dataframe tbody tr th:only-of-type {\n",
       "        vertical-align: middle;\n",
       "    }\n",
       "\n",
       "    .dataframe tbody tr th {\n",
       "        vertical-align: top;\n",
       "    }\n",
       "\n",
       "    .dataframe thead th {\n",
       "        text-align: right;\n",
       "    }\n",
       "</style>\n",
       "<table border=\"1\" class=\"dataframe\">\n",
       "  <thead>\n",
       "    <tr style=\"text-align: right;\">\n",
       "      <th></th>\n",
       "      <th>Humidity</th>\n",
       "      <th>Wind Speed</th>\n",
       "      <th>Dewpoint</th>\n",
       "      <th>Last Update Time</th>\n",
       "    </tr>\n",
       "  </thead>\n",
       "  <tbody>\n",
       "    <tr>\n",
       "      <th>0</th>\n",
       "      <td>36%</td>\n",
       "      <td>NW 14 G 21 mph</td>\n",
       "      <td>24°F (-4°C)</td>\n",
       "      <td>13 Nov 1:53 pm EST</td>\n",
       "    </tr>\n",
       "  </tbody>\n",
       "</table>\n",
       "</div>"
      ],
      "text/plain": [
       "  Humidity      Wind Speed     Dewpoint    Last Update Time\n",
       "0      36%  NW 14 G 21 mph  24°F (-4°C)  13 Nov 1:53 pm EST"
      ]
     },
     "execution_count": 62,
     "metadata": {},
     "output_type": "execute_result"
    }
   ],
   "source": [
    "#- humidity, windspeed, Dewpoint and Last Update Time\n",
    "current_conditions = soup.find(id=\"current_conditions_detail\")\n",
    "# print(current_conditions)\n",
    "soup = BeautifulSoup(page.content, 'html.parser')\n",
    "humidity = soup.find_all('td')[1].get_text()\n",
    "wind_speed = soup.find_all('td')[3].get_text()\n",
    "dewpoint = soup.find_all('td')[7].get_text()\n",
    "last_update_time = soup.find_all('td')[13].get_text().strip()\n",
    "# print(last_update_time)\n",
    "# print(humidity,wind_speed,dewpoint,last_update_time)\n",
    "current_condition_display =pd.DataFrame([[humidity,wind_speed,dewpoint,last_update_time]], columns=['Humidity','Wind Speed','Dewpoint','Last Update Time'])\n",
    "current_condition_display\n",
    "# soup.find_all('p')\n",
    "# forecast_items = seven_day.find_all(class_=\"text-right\")\n",
    "# tonight = forecast_items[0]\n",
    "# print(tonight.prettify())\n",
    "# print(forecast_items)"
   ]
  },
  {
   "cell_type": "code",
   "execution_count": 67,
   "id": "08b91f82",
   "metadata": {},
   "outputs": [],
   "source": [
    "import quandl\n",
    "import pymongo\n",
    "from pymongo import MongoClient"
   ]
  },
  {
   "cell_type": "code",
   "execution_count": 74,
   "id": "b86137f5",
   "metadata": {},
   "outputs": [],
   "source": [
    "client = MongoClient(\"mongodb://localhost:27017/\")\n",
    "data = weather.to_dict(orient = 'records')"
   ]
  },
  {
   "cell_type": "code",
   "execution_count": 75,
   "id": "cea84bc2",
   "metadata": {},
   "outputs": [],
   "source": [
    "db = client['DS2002']"
   ]
  },
  {
   "cell_type": "code",
   "execution_count": 76,
   "id": "2accefba",
   "metadata": {},
   "outputs": [
    {
     "ename": "ServerSelectionTimeoutError",
     "evalue": "localhost:27017: [Errno 61] Connection refused, Timeout: 30s, Topology Description: <TopologyDescription id: 63714e4b1ddf06ab477cb72b, topology_type: Unknown, servers: [<ServerDescription ('localhost', 27017) server_type: Unknown, rtt: None, error=AutoReconnect('localhost:27017: [Errno 61] Connection refused')>]>",
     "output_type": "error",
     "traceback": [
      "\u001b[0;31m---------------------------------------------------------------------------\u001b[0m",
      "\u001b[0;31mServerSelectionTimeoutError\u001b[0m               Traceback (most recent call last)",
      "\u001b[0;32m<ipython-input-76-b3f723443fcc>\u001b[0m in \u001b[0;36m<module>\u001b[0;34m\u001b[0m\n\u001b[0;32m----> 1\u001b[0;31m \u001b[0mdb\u001b[0m\u001b[0;34m.\u001b[0m\u001b[0mlab5\u001b[0m\u001b[0;34m.\u001b[0m\u001b[0minsert_many\u001b[0m\u001b[0;34m(\u001b[0m\u001b[0mdata\u001b[0m\u001b[0;34m)\u001b[0m\u001b[0;34m\u001b[0m\u001b[0;34m\u001b[0m\u001b[0m\n\u001b[0m",
      "\u001b[0;32m/opt/anaconda3/lib/python3.8/site-packages/pymongo/_csot.py\u001b[0m in \u001b[0;36mcsot_wrapper\u001b[0;34m(self, *args, **kwargs)\u001b[0m\n\u001b[1;32m    103\u001b[0m                 \u001b[0;32mwith\u001b[0m \u001b[0m_TimeoutContext\u001b[0m\u001b[0;34m(\u001b[0m\u001b[0mtimeout\u001b[0m\u001b[0;34m)\u001b[0m\u001b[0;34m:\u001b[0m\u001b[0;34m\u001b[0m\u001b[0;34m\u001b[0m\u001b[0m\n\u001b[1;32m    104\u001b[0m                     \u001b[0;32mreturn\u001b[0m \u001b[0mfunc\u001b[0m\u001b[0;34m(\u001b[0m\u001b[0mself\u001b[0m\u001b[0;34m,\u001b[0m \u001b[0;34m*\u001b[0m\u001b[0margs\u001b[0m\u001b[0;34m,\u001b[0m \u001b[0;34m**\u001b[0m\u001b[0mkwargs\u001b[0m\u001b[0;34m)\u001b[0m\u001b[0;34m\u001b[0m\u001b[0;34m\u001b[0m\u001b[0m\n\u001b[0;32m--> 105\u001b[0;31m         \u001b[0;32mreturn\u001b[0m \u001b[0mfunc\u001b[0m\u001b[0;34m(\u001b[0m\u001b[0mself\u001b[0m\u001b[0;34m,\u001b[0m \u001b[0;34m*\u001b[0m\u001b[0margs\u001b[0m\u001b[0;34m,\u001b[0m \u001b[0;34m**\u001b[0m\u001b[0mkwargs\u001b[0m\u001b[0;34m)\u001b[0m\u001b[0;34m\u001b[0m\u001b[0;34m\u001b[0m\u001b[0m\n\u001b[0m\u001b[1;32m    106\u001b[0m \u001b[0;34m\u001b[0m\u001b[0m\n\u001b[1;32m    107\u001b[0m     \u001b[0;32mreturn\u001b[0m \u001b[0mcast\u001b[0m\u001b[0;34m(\u001b[0m\u001b[0mF\u001b[0m\u001b[0;34m,\u001b[0m \u001b[0mcsot_wrapper\u001b[0m\u001b[0;34m)\u001b[0m\u001b[0;34m\u001b[0m\u001b[0;34m\u001b[0m\u001b[0m\n",
      "\u001b[0;32m/opt/anaconda3/lib/python3.8/site-packages/pymongo/collection.py\u001b[0m in \u001b[0;36minsert_many\u001b[0;34m(self, documents, ordered, bypass_document_validation, session, comment)\u001b[0m\n\u001b[1;32m    705\u001b[0m         \u001b[0mblk\u001b[0m \u001b[0;34m=\u001b[0m \u001b[0m_Bulk\u001b[0m\u001b[0;34m(\u001b[0m\u001b[0mself\u001b[0m\u001b[0;34m,\u001b[0m \u001b[0mordered\u001b[0m\u001b[0;34m,\u001b[0m \u001b[0mbypass_document_validation\u001b[0m\u001b[0;34m,\u001b[0m \u001b[0mcomment\u001b[0m\u001b[0;34m=\u001b[0m\u001b[0mcomment\u001b[0m\u001b[0;34m)\u001b[0m\u001b[0;34m\u001b[0m\u001b[0;34m\u001b[0m\u001b[0m\n\u001b[1;32m    706\u001b[0m         \u001b[0mblk\u001b[0m\u001b[0;34m.\u001b[0m\u001b[0mops\u001b[0m \u001b[0;34m=\u001b[0m \u001b[0;34m[\u001b[0m\u001b[0mdoc\u001b[0m \u001b[0;32mfor\u001b[0m \u001b[0mdoc\u001b[0m \u001b[0;32min\u001b[0m \u001b[0mgen\u001b[0m\u001b[0;34m(\u001b[0m\u001b[0;34m)\u001b[0m\u001b[0;34m]\u001b[0m\u001b[0;34m\u001b[0m\u001b[0;34m\u001b[0m\u001b[0m\n\u001b[0;32m--> 707\u001b[0;31m         \u001b[0mblk\u001b[0m\u001b[0;34m.\u001b[0m\u001b[0mexecute\u001b[0m\u001b[0;34m(\u001b[0m\u001b[0mwrite_concern\u001b[0m\u001b[0;34m,\u001b[0m \u001b[0msession\u001b[0m\u001b[0;34m=\u001b[0m\u001b[0msession\u001b[0m\u001b[0;34m)\u001b[0m\u001b[0;34m\u001b[0m\u001b[0;34m\u001b[0m\u001b[0m\n\u001b[0m\u001b[1;32m    708\u001b[0m         \u001b[0;32mreturn\u001b[0m \u001b[0mInsertManyResult\u001b[0m\u001b[0;34m(\u001b[0m\u001b[0minserted_ids\u001b[0m\u001b[0;34m,\u001b[0m \u001b[0mwrite_concern\u001b[0m\u001b[0;34m.\u001b[0m\u001b[0macknowledged\u001b[0m\u001b[0;34m)\u001b[0m\u001b[0;34m\u001b[0m\u001b[0;34m\u001b[0m\u001b[0m\n\u001b[1;32m    709\u001b[0m \u001b[0;34m\u001b[0m\u001b[0m\n",
      "\u001b[0;32m/opt/anaconda3/lib/python3.8/site-packages/pymongo/bulk.py\u001b[0m in \u001b[0;36mexecute\u001b[0;34m(self, write_concern, session)\u001b[0m\n\u001b[1;32m    511\u001b[0m                 \u001b[0mself\u001b[0m\u001b[0;34m.\u001b[0m\u001b[0mexecute_no_results\u001b[0m\u001b[0;34m(\u001b[0m\u001b[0msock_info\u001b[0m\u001b[0;34m,\u001b[0m \u001b[0mgenerator\u001b[0m\u001b[0;34m,\u001b[0m \u001b[0mwrite_concern\u001b[0m\u001b[0;34m)\u001b[0m\u001b[0;34m\u001b[0m\u001b[0;34m\u001b[0m\u001b[0m\n\u001b[1;32m    512\u001b[0m         \u001b[0;32melse\u001b[0m\u001b[0;34m:\u001b[0m\u001b[0;34m\u001b[0m\u001b[0;34m\u001b[0m\u001b[0m\n\u001b[0;32m--> 513\u001b[0;31m             \u001b[0;32mreturn\u001b[0m \u001b[0mself\u001b[0m\u001b[0;34m.\u001b[0m\u001b[0mexecute_command\u001b[0m\u001b[0;34m(\u001b[0m\u001b[0mgenerator\u001b[0m\u001b[0;34m,\u001b[0m \u001b[0mwrite_concern\u001b[0m\u001b[0;34m,\u001b[0m \u001b[0msession\u001b[0m\u001b[0;34m)\u001b[0m\u001b[0;34m\u001b[0m\u001b[0;34m\u001b[0m\u001b[0m\n\u001b[0m",
      "\u001b[0;32m/opt/anaconda3/lib/python3.8/site-packages/pymongo/bulk.py\u001b[0m in \u001b[0;36mexecute_command\u001b[0;34m(self, generator, write_concern, session)\u001b[0m\n\u001b[1;32m    388\u001b[0m \u001b[0;34m\u001b[0m\u001b[0m\n\u001b[1;32m    389\u001b[0m         \u001b[0mclient\u001b[0m \u001b[0;34m=\u001b[0m \u001b[0mself\u001b[0m\u001b[0;34m.\u001b[0m\u001b[0mcollection\u001b[0m\u001b[0;34m.\u001b[0m\u001b[0mdatabase\u001b[0m\u001b[0;34m.\u001b[0m\u001b[0mclient\u001b[0m\u001b[0;34m\u001b[0m\u001b[0;34m\u001b[0m\u001b[0m\n\u001b[0;32m--> 390\u001b[0;31m         \u001b[0;32mwith\u001b[0m \u001b[0mclient\u001b[0m\u001b[0;34m.\u001b[0m\u001b[0m_tmp_session\u001b[0m\u001b[0;34m(\u001b[0m\u001b[0msession\u001b[0m\u001b[0;34m)\u001b[0m \u001b[0;32mas\u001b[0m \u001b[0ms\u001b[0m\u001b[0;34m:\u001b[0m\u001b[0;34m\u001b[0m\u001b[0;34m\u001b[0m\u001b[0m\n\u001b[0m\u001b[1;32m    391\u001b[0m             \u001b[0mclient\u001b[0m\u001b[0;34m.\u001b[0m\u001b[0m_retry_with_session\u001b[0m\u001b[0;34m(\u001b[0m\u001b[0mself\u001b[0m\u001b[0;34m.\u001b[0m\u001b[0mis_retryable\u001b[0m\u001b[0;34m,\u001b[0m \u001b[0mretryable_bulk\u001b[0m\u001b[0;34m,\u001b[0m \u001b[0ms\u001b[0m\u001b[0;34m,\u001b[0m \u001b[0mself\u001b[0m\u001b[0;34m)\u001b[0m\u001b[0;34m\u001b[0m\u001b[0;34m\u001b[0m\u001b[0m\n\u001b[1;32m    392\u001b[0m \u001b[0;34m\u001b[0m\u001b[0m\n",
      "\u001b[0;32m/opt/anaconda3/lib/python3.8/contextlib.py\u001b[0m in \u001b[0;36m__enter__\u001b[0;34m(self)\u001b[0m\n\u001b[1;32m    111\u001b[0m         \u001b[0;32mdel\u001b[0m \u001b[0mself\u001b[0m\u001b[0;34m.\u001b[0m\u001b[0margs\u001b[0m\u001b[0;34m,\u001b[0m \u001b[0mself\u001b[0m\u001b[0;34m.\u001b[0m\u001b[0mkwds\u001b[0m\u001b[0;34m,\u001b[0m \u001b[0mself\u001b[0m\u001b[0;34m.\u001b[0m\u001b[0mfunc\u001b[0m\u001b[0;34m\u001b[0m\u001b[0;34m\u001b[0m\u001b[0m\n\u001b[1;32m    112\u001b[0m         \u001b[0;32mtry\u001b[0m\u001b[0;34m:\u001b[0m\u001b[0;34m\u001b[0m\u001b[0;34m\u001b[0m\u001b[0m\n\u001b[0;32m--> 113\u001b[0;31m             \u001b[0;32mreturn\u001b[0m \u001b[0mnext\u001b[0m\u001b[0;34m(\u001b[0m\u001b[0mself\u001b[0m\u001b[0;34m.\u001b[0m\u001b[0mgen\u001b[0m\u001b[0;34m)\u001b[0m\u001b[0;34m\u001b[0m\u001b[0;34m\u001b[0m\u001b[0m\n\u001b[0m\u001b[1;32m    114\u001b[0m         \u001b[0;32mexcept\u001b[0m \u001b[0mStopIteration\u001b[0m\u001b[0;34m:\u001b[0m\u001b[0;34m\u001b[0m\u001b[0;34m\u001b[0m\u001b[0m\n\u001b[1;32m    115\u001b[0m             \u001b[0;32mraise\u001b[0m \u001b[0mRuntimeError\u001b[0m\u001b[0;34m(\u001b[0m\u001b[0;34m\"generator didn't yield\"\u001b[0m\u001b[0;34m)\u001b[0m \u001b[0;32mfrom\u001b[0m \u001b[0;32mNone\u001b[0m\u001b[0;34m\u001b[0m\u001b[0;34m\u001b[0m\u001b[0m\n",
      "\u001b[0;32m/opt/anaconda3/lib/python3.8/site-packages/pymongo/mongo_client.py\u001b[0m in \u001b[0;36m_tmp_session\u001b[0;34m(self, session, close)\u001b[0m\n\u001b[1;32m   1755\u001b[0m             \u001b[0;32mreturn\u001b[0m\u001b[0;34m\u001b[0m\u001b[0;34m\u001b[0m\u001b[0m\n\u001b[1;32m   1756\u001b[0m \u001b[0;34m\u001b[0m\u001b[0m\n\u001b[0;32m-> 1757\u001b[0;31m         \u001b[0ms\u001b[0m \u001b[0;34m=\u001b[0m \u001b[0mself\u001b[0m\u001b[0;34m.\u001b[0m\u001b[0m_ensure_session\u001b[0m\u001b[0;34m(\u001b[0m\u001b[0msession\u001b[0m\u001b[0;34m)\u001b[0m\u001b[0;34m\u001b[0m\u001b[0;34m\u001b[0m\u001b[0m\n\u001b[0m\u001b[1;32m   1758\u001b[0m         \u001b[0;32mif\u001b[0m \u001b[0ms\u001b[0m\u001b[0;34m:\u001b[0m\u001b[0;34m\u001b[0m\u001b[0;34m\u001b[0m\u001b[0m\n\u001b[1;32m   1759\u001b[0m             \u001b[0;32mtry\u001b[0m\u001b[0;34m:\u001b[0m\u001b[0;34m\u001b[0m\u001b[0;34m\u001b[0m\u001b[0m\n",
      "\u001b[0;32m/opt/anaconda3/lib/python3.8/site-packages/pymongo/mongo_client.py\u001b[0m in \u001b[0;36m_ensure_session\u001b[0;34m(self, session)\u001b[0m\n\u001b[1;32m   1738\u001b[0m             \u001b[0;31m# Don't make implicit sessions causally consistent. Applications\u001b[0m\u001b[0;34m\u001b[0m\u001b[0;34m\u001b[0m\u001b[0;34m\u001b[0m\u001b[0m\n\u001b[1;32m   1739\u001b[0m             \u001b[0;31m# should always opt-in.\u001b[0m\u001b[0;34m\u001b[0m\u001b[0;34m\u001b[0m\u001b[0;34m\u001b[0m\u001b[0m\n\u001b[0;32m-> 1740\u001b[0;31m             \u001b[0;32mreturn\u001b[0m \u001b[0mself\u001b[0m\u001b[0;34m.\u001b[0m\u001b[0m__start_session\u001b[0m\u001b[0;34m(\u001b[0m\u001b[0;32mTrue\u001b[0m\u001b[0;34m,\u001b[0m \u001b[0mcausal_consistency\u001b[0m\u001b[0;34m=\u001b[0m\u001b[0;32mFalse\u001b[0m\u001b[0;34m)\u001b[0m\u001b[0;34m\u001b[0m\u001b[0;34m\u001b[0m\u001b[0m\n\u001b[0m\u001b[1;32m   1741\u001b[0m         \u001b[0;32mexcept\u001b[0m \u001b[0;34m(\u001b[0m\u001b[0mConfigurationError\u001b[0m\u001b[0;34m,\u001b[0m \u001b[0mInvalidOperation\u001b[0m\u001b[0;34m)\u001b[0m\u001b[0;34m:\u001b[0m\u001b[0;34m\u001b[0m\u001b[0;34m\u001b[0m\u001b[0m\n\u001b[1;32m   1742\u001b[0m             \u001b[0;31m# Sessions not supported.\u001b[0m\u001b[0;34m\u001b[0m\u001b[0;34m\u001b[0m\u001b[0;34m\u001b[0m\u001b[0m\n",
      "\u001b[0;32m/opt/anaconda3/lib/python3.8/site-packages/pymongo/mongo_client.py\u001b[0m in \u001b[0;36m__start_session\u001b[0;34m(self, implicit, **kwargs)\u001b[0m\n\u001b[1;32m   1683\u001b[0m         \u001b[0;31m# Raises ConfigurationError if sessions are not supported.\u001b[0m\u001b[0;34m\u001b[0m\u001b[0;34m\u001b[0m\u001b[0;34m\u001b[0m\u001b[0m\n\u001b[1;32m   1684\u001b[0m         \u001b[0;32mif\u001b[0m \u001b[0mimplicit\u001b[0m\u001b[0;34m:\u001b[0m\u001b[0;34m\u001b[0m\u001b[0;34m\u001b[0m\u001b[0m\n\u001b[0;32m-> 1685\u001b[0;31m             \u001b[0mself\u001b[0m\u001b[0;34m.\u001b[0m\u001b[0m_topology\u001b[0m\u001b[0;34m.\u001b[0m\u001b[0m_check_implicit_session_support\u001b[0m\u001b[0;34m(\u001b[0m\u001b[0;34m)\u001b[0m\u001b[0;34m\u001b[0m\u001b[0;34m\u001b[0m\u001b[0m\n\u001b[0m\u001b[1;32m   1686\u001b[0m             \u001b[0mserver_session\u001b[0m \u001b[0;34m=\u001b[0m \u001b[0m_EmptyServerSession\u001b[0m\u001b[0;34m(\u001b[0m\u001b[0;34m)\u001b[0m\u001b[0;34m\u001b[0m\u001b[0;34m\u001b[0m\u001b[0m\n\u001b[1;32m   1687\u001b[0m         \u001b[0;32melse\u001b[0m\u001b[0;34m:\u001b[0m\u001b[0;34m\u001b[0m\u001b[0;34m\u001b[0m\u001b[0m\n",
      "\u001b[0;32m/opt/anaconda3/lib/python3.8/site-packages/pymongo/topology.py\u001b[0m in \u001b[0;36m_check_implicit_session_support\u001b[0;34m(self)\u001b[0m\n\u001b[1;32m    536\u001b[0m     \u001b[0;32mdef\u001b[0m \u001b[0m_check_implicit_session_support\u001b[0m\u001b[0;34m(\u001b[0m\u001b[0mself\u001b[0m\u001b[0;34m)\u001b[0m\u001b[0;34m:\u001b[0m\u001b[0;34m\u001b[0m\u001b[0;34m\u001b[0m\u001b[0m\n\u001b[1;32m    537\u001b[0m         \u001b[0;32mwith\u001b[0m \u001b[0mself\u001b[0m\u001b[0;34m.\u001b[0m\u001b[0m_lock\u001b[0m\u001b[0;34m:\u001b[0m\u001b[0;34m\u001b[0m\u001b[0;34m\u001b[0m\u001b[0m\n\u001b[0;32m--> 538\u001b[0;31m             \u001b[0mself\u001b[0m\u001b[0;34m.\u001b[0m\u001b[0m_check_session_support\u001b[0m\u001b[0;34m(\u001b[0m\u001b[0;34m)\u001b[0m\u001b[0;34m\u001b[0m\u001b[0;34m\u001b[0m\u001b[0m\n\u001b[0m\u001b[1;32m    539\u001b[0m \u001b[0;34m\u001b[0m\u001b[0m\n\u001b[1;32m    540\u001b[0m     \u001b[0;32mdef\u001b[0m \u001b[0m_check_session_support\u001b[0m\u001b[0;34m(\u001b[0m\u001b[0mself\u001b[0m\u001b[0;34m)\u001b[0m\u001b[0;34m:\u001b[0m\u001b[0;34m\u001b[0m\u001b[0;34m\u001b[0m\u001b[0m\n",
      "\u001b[0;32m/opt/anaconda3/lib/python3.8/site-packages/pymongo/topology.py\u001b[0m in \u001b[0;36m_check_session_support\u001b[0;34m(self)\u001b[0m\n\u001b[1;32m    552\u001b[0m                     )\n\u001b[1;32m    553\u001b[0m             \u001b[0;32melif\u001b[0m \u001b[0;32mnot\u001b[0m \u001b[0mself\u001b[0m\u001b[0;34m.\u001b[0m\u001b[0m_description\u001b[0m\u001b[0;34m.\u001b[0m\u001b[0mreadable_servers\u001b[0m\u001b[0;34m:\u001b[0m\u001b[0;34m\u001b[0m\u001b[0;34m\u001b[0m\u001b[0m\n\u001b[0;32m--> 554\u001b[0;31m                 self._select_servers_loop(\n\u001b[0m\u001b[1;32m    555\u001b[0m                     \u001b[0mreadable_server_selector\u001b[0m\u001b[0;34m,\u001b[0m \u001b[0mself\u001b[0m\u001b[0;34m.\u001b[0m\u001b[0mget_server_selection_timeout\u001b[0m\u001b[0;34m(\u001b[0m\u001b[0;34m)\u001b[0m\u001b[0;34m,\u001b[0m \u001b[0;32mNone\u001b[0m\u001b[0;34m\u001b[0m\u001b[0;34m\u001b[0m\u001b[0m\n\u001b[1;32m    556\u001b[0m                 )\n",
      "\u001b[0;32m/opt/anaconda3/lib/python3.8/site-packages/pymongo/topology.py\u001b[0m in \u001b[0;36m_select_servers_loop\u001b[0;34m(self, selector, timeout, address)\u001b[0m\n\u001b[1;32m    236\u001b[0m             \u001b[0;31m# No suitable servers.\u001b[0m\u001b[0;34m\u001b[0m\u001b[0;34m\u001b[0m\u001b[0;34m\u001b[0m\u001b[0m\n\u001b[1;32m    237\u001b[0m             \u001b[0;32mif\u001b[0m \u001b[0mtimeout\u001b[0m \u001b[0;34m==\u001b[0m \u001b[0;36m0\u001b[0m \u001b[0;32mor\u001b[0m \u001b[0mnow\u001b[0m \u001b[0;34m>\u001b[0m \u001b[0mend_time\u001b[0m\u001b[0;34m:\u001b[0m\u001b[0;34m\u001b[0m\u001b[0;34m\u001b[0m\u001b[0m\n\u001b[0;32m--> 238\u001b[0;31m                 raise ServerSelectionTimeoutError(\n\u001b[0m\u001b[1;32m    239\u001b[0m                     \u001b[0;34m\"%s, Timeout: %ss, Topology Description: %r\"\u001b[0m\u001b[0;34m\u001b[0m\u001b[0;34m\u001b[0m\u001b[0m\n\u001b[1;32m    240\u001b[0m                     \u001b[0;34m%\u001b[0m \u001b[0;34m(\u001b[0m\u001b[0mself\u001b[0m\u001b[0;34m.\u001b[0m\u001b[0m_error_message\u001b[0m\u001b[0;34m(\u001b[0m\u001b[0mselector\u001b[0m\u001b[0;34m)\u001b[0m\u001b[0;34m,\u001b[0m \u001b[0mtimeout\u001b[0m\u001b[0;34m,\u001b[0m \u001b[0mself\u001b[0m\u001b[0;34m.\u001b[0m\u001b[0mdescription\u001b[0m\u001b[0;34m)\u001b[0m\u001b[0;34m\u001b[0m\u001b[0;34m\u001b[0m\u001b[0m\n",
      "\u001b[0;31mServerSelectionTimeoutError\u001b[0m: localhost:27017: [Errno 61] Connection refused, Timeout: 30s, Topology Description: <TopologyDescription id: 63714e4b1ddf06ab477cb72b, topology_type: Unknown, servers: [<ServerDescription ('localhost', 27017) server_type: Unknown, rtt: None, error=AutoReconnect('localhost:27017: [Errno 61] Connection refused')>]>"
     ]
    }
   ],
   "source": [
    "db.lab5.insert_many(data)"
   ]
  },
  {
   "cell_type": "code",
   "execution_count": null,
   "id": "73205870",
   "metadata": {},
   "outputs": [],
   "source": []
  }
 ],
 "metadata": {
  "kernelspec": {
   "display_name": "Python 3",
   "language": "python",
   "name": "python3"
  },
  "language_info": {
   "codemirror_mode": {
    "name": "ipython",
    "version": 3
   },
   "file_extension": ".py",
   "mimetype": "text/x-python",
   "name": "python",
   "nbconvert_exporter": "python",
   "pygments_lexer": "ipython3",
   "version": "3.8.8"
  }
 },
 "nbformat": 4,
 "nbformat_minor": 5
}
