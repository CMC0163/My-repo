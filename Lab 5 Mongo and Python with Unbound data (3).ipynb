{
 "cells": [
  {
   "cell_type": "code",
   "execution_count": null,
   "id": "eb2b7abb",
   "metadata": {},
   "outputs": [],
   "source": [
    "# Avery Schebell (ajs6av); Amshala Bharathan (ab5sz); Mianchen Cao (mc7sq)"
   ]
  },
  {
   "cell_type": "code",
   "execution_count": null,
   "id": "865a2f83",
   "metadata": {},
   "outputs": [],
   "source": [
    "import requests\n",
    "page = requests.get(\"https://dataquestio.github.io/web-scraping-pages/simple.html\")\n",
    "page"
   ]
  },
  {
   "cell_type": "code",
   "execution_count": null,
   "id": "0d7b1891",
   "metadata": {},
   "outputs": [],
   "source": [
    "page.status_code"
   ]
  },
  {
   "cell_type": "code",
   "execution_count": null,
   "id": "9de3474a",
   "metadata": {},
   "outputs": [],
   "source": [
    "page.content"
   ]
  },
  {
   "cell_type": "code",
   "execution_count": null,
   "id": "79a4f94a",
   "metadata": {},
   "outputs": [],
   "source": [
    "from bs4 import BeautifulSoup\n",
    "soup = BeautifulSoup(page.content,'html.parser')"
   ]
  },
  {
   "cell_type": "code",
   "execution_count": null,
   "id": "258136e9",
   "metadata": {},
   "outputs": [],
   "source": [
    "print(soup.prettify())"
   ]
  },
  {
   "cell_type": "code",
   "execution_count": null,
   "id": "ee8ed51b",
   "metadata": {},
   "outputs": [],
   "source": [
    "list(soup.children)"
   ]
  },
  {
   "cell_type": "code",
   "execution_count": null,
   "id": "1727e194",
   "metadata": {},
   "outputs": [],
   "source": [
    "[type(item) for item in list(soup.children)]"
   ]
  },
  {
   "cell_type": "code",
   "execution_count": null,
   "id": "90d56c69",
   "metadata": {},
   "outputs": [],
   "source": [
    "html = list(soup.children)[2]"
   ]
  },
  {
   "cell_type": "code",
   "execution_count": null,
   "id": "a47388e5",
   "metadata": {},
   "outputs": [],
   "source": [
    "list(html.children)"
   ]
  },
  {
   "cell_type": "code",
   "execution_count": null,
   "id": "7e8e0518",
   "metadata": {},
   "outputs": [],
   "source": [
    "body = list(html.children)[3]"
   ]
  },
  {
   "cell_type": "code",
   "execution_count": null,
   "id": "9b465385",
   "metadata": {},
   "outputs": [],
   "source": [
    "list(body.children)"
   ]
  },
  {
   "cell_type": "code",
   "execution_count": null,
   "id": "d7f3e6be",
   "metadata": {},
   "outputs": [],
   "source": [
    "p = list(body.children)[1]"
   ]
  },
  {
   "cell_type": "code",
   "execution_count": null,
   "id": "0be14fa9",
   "metadata": {},
   "outputs": [],
   "source": [
    "p.get_text()"
   ]
  },
  {
   "cell_type": "code",
   "execution_count": null,
   "id": "ae3fecb8",
   "metadata": {},
   "outputs": [],
   "source": [
    "soup = BeautifulSoup(page.content, 'html.parser')\n",
    "soup.find_all('p')"
   ]
  },
  {
   "cell_type": "code",
   "execution_count": null,
   "id": "7865b6a5",
   "metadata": {},
   "outputs": [],
   "source": [
    "soup.find_all('p')[0].get_text()"
   ]
  },
  {
   "cell_type": "code",
   "execution_count": null,
   "id": "4a120050",
   "metadata": {},
   "outputs": [],
   "source": [
    "soup.find('p')"
   ]
  },
  {
   "cell_type": "code",
   "execution_count": null,
   "id": "892fe644",
   "metadata": {},
   "outputs": [],
   "source": [
    "page = requests.get('https://dataquestio.github.io/web-scraping-pages/ids_and_classes.html')\n",
    "soup = BeautifulSoup(page.content,'html.parser')\n",
    "soup"
   ]
  },
  {
   "cell_type": "code",
   "execution_count": null,
   "id": "e7d43822",
   "metadata": {},
   "outputs": [],
   "source": [
    "soup.find_all('p',class_='outer-text')"
   ]
  },
  {
   "cell_type": "code",
   "execution_count": null,
   "id": "5b30fca9",
   "metadata": {},
   "outputs": [],
   "source": [
    "soup.find_all(class_='outer-text')"
   ]
  },
  {
   "cell_type": "code",
   "execution_count": null,
   "id": "25374e6e",
   "metadata": {},
   "outputs": [],
   "source": [
    "soup.find_all(id='first')"
   ]
  },
  {
   "cell_type": "code",
   "execution_count": null,
   "id": "a8e77135",
   "metadata": {},
   "outputs": [],
   "source": [
    "soup.select('div p')"
   ]
  },
  {
   "cell_type": "code",
   "execution_count": null,
   "id": "08eefba4",
   "metadata": {},
   "outputs": [],
   "source": [
    "import pgeocode\n",
    "print(\"Please enter a zipcode: \")\n",
    "zipcode = input()\n",
    "nomi = pgeocode.Nominatim('us')\n",
    "# nomi.query_postal_code(zipcode)\n",
    "longitude = str(nomi.query_postal_code(zipcode)['longitude'])\n",
    "latitude = str(nomi.query_postal_code(zipcode)['latitude'])\n",
    "print(longitude,latitude)\n"
   ]
  },
  {
   "cell_type": "code",
   "execution_count": null,
   "id": "11278170",
   "metadata": {},
   "outputs": [],
   "source": [
    "page = requests.get(\"https://forecast.weather.gov/MapClick.php?lat=\"+latitude+\"&lon=\"+longitude)\n",
    "soup = BeautifulSoup(page.content, 'html.parser')\n",
    "seven_day = soup.find(id=\"seven-day-forecast\")\n",
    "forecast_items = seven_day.find_all(class_=\"tombstone-container\")\n",
    "tonight = forecast_items[0]\n",
    "print(tonight.prettify())\n",
    "print(forecast_items)"
   ]
  },
  {
   "cell_type": "code",
   "execution_count": null,
   "id": "176f3999",
   "metadata": {},
   "outputs": [],
   "source": [
    "period = tonight.find(class_='period-name').get_text()\n",
    "short_desc = tonight.find(class_='short-desc').get_text()\n",
    "temp=tonight.find(class_='temp').get_text()\n",
    "print(period)\n",
    "print(short_desc)\n",
    "print(temp)"
   ]
  },
  {
   "cell_type": "code",
   "execution_count": null,
   "id": "ec1acae2",
   "metadata": {},
   "outputs": [],
   "source": [
    "img = tonight.find('img')\n",
    "desc = img['title']\n",
    "print(desc)"
   ]
  },
  {
   "cell_type": "code",
   "execution_count": null,
   "id": "033ad3db",
   "metadata": {},
   "outputs": [],
   "source": [
    "period_tags = seven_day.select(\".tombstone-container .period-name\")\n",
    "periods = [pt.get_text() for pt in period_tags]\n",
    "periods"
   ]
  },
  {
   "cell_type": "code",
   "execution_count": null,
   "id": "809bb04b",
   "metadata": {},
   "outputs": [],
   "source": [
    "short_descs = [sd.get_text() for sd in seven_day.select('.tombstone-container .short-desc')]\n",
    "temps = [t.get_text() for t in seven_day.select('.tombstone-container .temp')]\n",
    "descs = [d['title'] for d in seven_day.select('.tombstone-container img')]\n",
    "print(short_descs,temps,descs)\n"
   ]
  },
  {
   "cell_type": "code",
   "execution_count": null,
   "id": "110df288",
   "metadata": {
    "scrolled": true
   },
   "outputs": [],
   "source": [
    "#Seven day forecast\n",
    "import pandas as pd\n",
    "weather = pd.DataFrame({\n",
    "    'period':periods,\n",
    "    'short_desc':short_descs,\n",
    "    'temp':temps,\n",
    "    'desc':descs\n",
    "})\n",
    "weather"
   ]
  },
  {
   "cell_type": "code",
   "execution_count": null,
   "id": "d2e30816",
   "metadata": {},
   "outputs": [],
   "source": [
    "\n",
    "temp_nums = weather[\"temp\"].str.extract(\"(?P<temp_num>\\d+)\", expand=False)\n",
    "weather['temp_num']=temp_nums.astype('int')\n",
    "temp_nums\n"
   ]
  },
  {
   "cell_type": "code",
   "execution_count": null,
   "id": "c821b07c",
   "metadata": {},
   "outputs": [],
   "source": [
    "weather['temp_num'].mean()"
   ]
  },
  {
   "cell_type": "code",
   "execution_count": null,
   "id": "4a970639",
   "metadata": {},
   "outputs": [],
   "source": [
    "is_night=weather['temp'].str.contains(\"Low\")\n",
    "weather['is_night']=is_night\n",
    "is_night"
   ]
  },
  {
   "cell_type": "code",
   "execution_count": null,
   "id": "49e0040c",
   "metadata": {},
   "outputs": [],
   "source": [
    "weather"
   ]
  },
  {
   "cell_type": "code",
   "execution_count": null,
   "id": "d32ba78f",
   "metadata": {},
   "outputs": [],
   "source": [
    "#- humidity, windspeed, Dewpoint and Last Update Time\n",
    "current_conditions = soup.find(id=\"current_conditions_detail\")\n",
    "# print(current_conditions)\n",
    "soup = BeautifulSoup(page.content, 'html.parser')\n",
    "humidity = soup.find_all('td')[1].get_text()\n",
    "wind_speed = soup.find_all('td')[3].get_text()\n",
    "dewpoint = soup.find_all('td')[7].get_text()\n",
    "last_update_time = soup.find_all('td')[13].get_text().strip()\n",
    "# print(last_update_time)\n",
    "# print(humidity,wind_speed,dewpoint,last_update_time)\n",
    "current_condition_display =pd.DataFrame([[humidity,wind_speed,dewpoint,last_update_time]], columns=['Humidity','Wind Speed','Dewpoint','Last Update Time'])\n",
    "current_condition_display\n",
    "# soup.find_all('p')\n",
    "# forecast_items = seven_day.find_all(class_=\"text-right\")\n",
    "# tonight = forecast_items[0]\n",
    "# print(tonight.prettify())\n",
    "# print(forecast_items)"
   ]
  },
  {
   "cell_type": "code",
   "execution_count": null,
   "id": "08b91f82",
   "metadata": {},
   "outputs": [],
   "source": [
    "import quandl\n",
    "import pymongo\n",
    "from pymongo import MongoClient"
   ]
  },
  {
   "cell_type": "code",
   "execution_count": null,
   "id": "b86137f5",
   "metadata": {},
   "outputs": [],
   "source": [
    "client = MongoClient(\"mongodb://localhost:27017/\")\n",
    "data = weather.to_dict(orient = 'records')"
   ]
  },
  {
   "cell_type": "code",
   "execution_count": null,
   "id": "5e1b538e",
   "metadata": {},
   "outputs": [],
   "source": [
    "db = client['DS2002']"
   ]
  },
  {
   "cell_type": "code",
   "execution_count": null,
   "id": "427c805a",
   "metadata": {},
   "outputs": [],
   "source": [
    "db.lab5.insert_many(data)"
   ]
  }
 ],
 "metadata": {
  "kernelspec": {
   "display_name": "Python 3",
   "language": "python",
   "name": "python3"
  },
  "language_info": {
   "codemirror_mode": {
    "name": "ipython",
    "version": 3
   },
   "file_extension": ".py",
   "mimetype": "text/x-python",
   "name": "python",
   "nbconvert_exporter": "python",
   "pygments_lexer": "ipython3",
   "version": "3.8.8"
  }
 },
 "nbformat": 4,
 "nbformat_minor": 5
}
